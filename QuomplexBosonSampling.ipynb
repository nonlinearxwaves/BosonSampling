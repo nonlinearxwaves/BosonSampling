{
 "cells": [
  {
   "cell_type": "markdown",
   "metadata": {},
   "source": [
    "# Training Gaussian Boson Sampling"
   ]
  },
  {
   "cell_type": "markdown",
   "metadata": {},
   "source": [
    "We test the boson sampling operator \n",
    "on squeezed states, and \n",
    "propagating in a random medium\n",
    "\n",
    "We use a neural network to model the characteristic function\n",
    "\n",
    "We train the random medium to minimize <(n0-n1)^2> \n",
    "\n",
    "A linear interferometer is used as weight\n",
    "\n",
    "nonlinearxwaves@gmail.com<br>\n",
    "@version 21 feb 2021"
   ]
  },
  {
   "cell_type": "markdown",
   "metadata": {},
   "source": [
    "# Setup and import"
   ]
  },
  {
   "cell_type": "code",
   "execution_count": 1,
   "metadata": {},
   "outputs": [],
   "source": [
    "import numpy as np\n",
    "from qutip import random_objects\n",
    "import math\n",
    "import scipy as scipy\n",
    "from scipy.linalg import expm, sinm, cosm\n",
    "import tensorflow as tf\n",
    "from tensorflow.keras import layers\n",
    "from tensorflow import keras\n",
    "import matplotlib.pyplot as plt\n",
    "from tensorflow.keras.callbacks import EarlyStopping\n",
    "import itertools as it"
   ]
  },
  {
   "cell_type": "code",
   "execution_count": 2,
   "metadata": {},
   "outputs": [],
   "source": [
    "tf_complex = tf.complex\n",
    "tf_real = tf.float32\n",
    "np_complex = np.complex\n",
    "np_real = np.float64"
   ]
  },
  {
   "cell_type": "code",
   "execution_count": 3,
   "metadata": {},
   "outputs": [],
   "source": [
    "tf.keras.backend.clear_session()"
   ]
  },
  {
   "cell_type": "markdown",
   "metadata": {},
   "source": [
    "Check GPU"
   ]
  },
  {
   "cell_type": "code",
   "execution_count": 4,
   "metadata": {},
   "outputs": [
    {
     "name": "stdout",
     "output_type": "stream",
     "text": [
      "Num GPUs Available:  0\n"
     ]
    }
   ],
   "source": [
    "print(\"Num GPUs Available: \", len(tf.config.experimental.list_physical_devices('GPU')))"
   ]
  },
  {
   "cell_type": "markdown",
   "metadata": {},
   "source": [
    "## Dimension"
   ]
  },
  {
   "cell_type": "markdown",
   "metadata": {},
   "source": [
    "N is the size of the vector x input to the characteristic functions"
   ]
  },
  {
   "cell_type": "code",
   "execution_count": 5,
   "metadata": {},
   "outputs": [],
   "source": [
    "N = 12"
   ]
  },
  {
   "cell_type": "markdown",
   "metadata": {},
   "source": [
    "n is the number of mode, with n=N/2"
   ]
  },
  {
   "cell_type": "code",
   "execution_count": 6,
   "metadata": {},
   "outputs": [],
   "source": [
    "n=int(N/2)"
   ]
  },
  {
   "cell_type": "markdown",
   "metadata": {},
   "source": [
    "## Vacuum layer"
   ]
  },
  {
   "cell_type": "markdown",
   "metadata": {},
   "source": [
    "We define a tf layer that return a Gaussian function with identity covariance matrix and zero displacement"
   ]
  },
  {
   "cell_type": "code",
   "execution_count": 7,
   "metadata": {},
   "outputs": [],
   "source": [
    "class VacuumLayer(layers.Layer):\n",
    "    \"\"\"\n",
    "        Define a Gaussian state as a neural network layer\n",
    "    \"\"\"\n",
    "\n",
    "    def __init__(self, N=10, dtype=tf_real,**kwargs):\n",
    "        super(VacuumLayer, self).__init__(**kwargs)\n",
    "        g_in=np.eye(N, dtype=np_real)\n",
    "        d_in=np.zeros((N, 1))\n",
    "        self.N = N\n",
    "        assert self.N % 2 == 0, \\\n",
    "            \" Dimension must be even \"\n",
    "        self.g_np = g_in\n",
    "        self.d_np = d_in\n",
    "        self.g = tf.Variable(self.g_np, dtype=self.dtype,\n",
    "                             trainable=False)\n",
    "        self.d = tf.Variable(self.d_np, dtype=self.dtype,\n",
    "                             trainable=False)\n",
    "        self.DotLayer = tf.keras.layers.Dot(axes=1)\n",
    "\n",
    "\n",
    "    def call(self, x, di=None): \n",
    "        # [chir, chii] = self.call(x,a)\n",
    "        # [chir, chii] = self.call(x) , here a=0 as default\n",
    "        # param: x the input row vector (Nbatch, N)\n",
    "        # param: a the input ancillas column vector (N,1)\n",
    "        # output: chir, the real part of the characteristic function\n",
    "        # output: chii, the imaginary part of the characteritic function\n",
    "        if di is None:\n",
    "            di1 = tf.constant(np.zeros((self.n, 1)), dtype=tf_real)\n",
    "        else:\n",
    "            di1 = di\n",
    "        yi = tf.matmul(x, self.d+di1)\n",
    "        yR = tf.matmul(x, self.g, transpose_b=True) # note the transpose here, needed for DotLayer\n",
    "        gDot = self.DotLayer([x, yR])\n",
    "        yr2 = tf.multiply(-0.25, gDot)\n",
    "        return [tf.multiply(tf.exp(yr2),tf.cos(yi)), tf.multiply(tf.exp(yr2),tf.sin(yi))]\n"
   ]
  },
  {
   "cell_type": "markdown",
   "metadata": {},
   "source": [
    "Create a vacuum layer object"
   ]
  },
  {
   "cell_type": "code",
   "execution_count": 8,
   "metadata": {},
   "outputs": [],
   "source": [
    "vacuum = VacuumLayer(N)"
   ]
  },
  {
   "cell_type": "markdown",
   "metadata": {},
   "source": [
    "# Squeezing layer"
   ]
  },
  {
   "cell_type": "markdown",
   "metadata": {},
   "source": [
    "Define a linear layer with the symplectic matrix corresponding to a single mode squeezer"
   ]
  },
  {
   "cell_type": "code",
   "execution_count": 9,
   "metadata": {},
   "outputs": [],
   "source": [
    "def RQRP(n=10):\n",
    "    \"\"\"\n",
    "    Return matrices needed to build the symplectic matrix\n",
    "\n",
    "     Parameters\n",
    "     ----------\n",
    "     n : TYPE, dimension of R (2 times the number of bodies)\n",
    "         DESCRIPTION. The default is 10.\n",
    "\n",
    "     Returns\n",
    "     -------\n",
    "     The projection matricex RX and RP, and the matrix J\n",
    "\n",
    "    \"\"\"\n",
    "    n2 = np.floor_divide(n, 2)\n",
    "    RQ = np.zeros((n,n2), dtype = np_real)\n",
    "    RP = np.zeros((n,n2), dtype = np_real)\n",
    "    c=-1\n",
    "    d=-1\n",
    "    for j in range(n):\n",
    "        if j%2==0:\n",
    "            c=c+1\n",
    "            RQ[j,c]=1.0\n",
    "        else:\n",
    "            d=d+1\n",
    "            RP[j,d]=1.0\n",
    "    J = np.matmul(RQ, RP.transpose())-\\\n",
    "        np.matmul(RP, RQ.transpose())\n",
    "    return RQ, RP, J\n",
    "\n",
    "class SingleModeSqueezer(layers.Layer):\n",
    "    \"\"\"\n",
    "        Define a linear random layer corresponding to a\n",
    "        single mode squeeze opeator\n",
    "\n",
    "        In input has input N, the size of the R vector (must be even)\n",
    "\n",
    "        The parameters r and theta, and the index of the squeezed mode\n",
    "\n",
    "        nsqueezing goes from 0 to n-1  // index of the squeezed modes\n",
    "\n",
    "        :param N: dimension of x\n",
    "        :param r_np : squeezing parameter\n",
    "        :param theta_np : angle squeezing parameter\n",
    "        :param n_squeezed : index of the squeezed mode (from 0 to n-1)\n",
    "\n",
    "        :output x M\n",
    "        :output b = M^(-1) d\n",
    "\n",
    "    \"\"\"\n",
    "\n",
    "    def __init__(self, N=10, r_np=1.0, \n",
    "                    theta_np=0.0, \n",
    "                    n_squeezed=0,\n",
    "                 **kwargs):\n",
    "        super(SingleModeSqueezer, self).__init__(**kwargs)\n",
    "        assert N % 2 == 0, \\\n",
    "            \" Dimension N must be even \"\n",
    "        assert n_squeezed < N/2 , \\\n",
    "            \" Cannot squeeze a mode index bigger than N-1 \"\n",
    "        self.N = N\n",
    "        self.n_squeezed = n_squeezed        \n",
    "        # squeezing parameters\n",
    "        self.theta = tf.Variable(theta_np, dtype=tf_real,trainable=False)                              \n",
    "        self.r = tf.Variable(r_np, dtype=tf_real,trainable=False)                              \n",
    "        \n",
    "        # Build the matrices for the symplectic operator\n",
    "        Rq, Rp, J = RQRP(N)\n",
    "        self.Rq = tf.constant(Rq, dtype=tf_real)\n",
    "        self.Rp = tf.constant(Rp, dtype=tf_real)\n",
    "        self.J = tf.constant(J, dtype=tf_real)\n",
    "        \n",
    "        # Padding vector for the matrix \n",
    "        self.paddings = tf.constant([[2*n_squeezed, \\\n",
    "                    self.N-2*(n_squeezed+1)],[2*n_squeezed, self.N-2*(n_squeezed+1)]])\n",
    "            \n",
    "\n",
    "    def get_M(self):\n",
    "        # return the M matrix and its inverse MI\n",
    "        # Build the symplectiv matrix M\n",
    "        M11 = tf.math.cosh(self.r)-tf.math.cos(self.theta)*tf.math.sinh(self.r)-1 # substract 1 in the diag elements, as then sum identiy\n",
    "        M12 = tf.math.sin(-self.theta)*tf.math.sinh(self.r) \n",
    "        M21 = tf.math.sin(-self.theta)*tf.math.sinh(self.r) \n",
    "        M22 = tf.math.cosh(self.r)+tf.math.cos(self.theta)*tf.math.sinh(self.r)-1\n",
    "        L1 = tf.stack([M11, M12, M21, M22],0)\n",
    "        L2 = tf.reshape(L1, (2,2))\n",
    "        L3 = tf.pad(L2, self.paddings, constant_values=0)\n",
    "        M = L3+tf.eye(self.N)   \n",
    "        # Inverse of M\n",
    "        MI = tf.matmul(tf.matmul(M, self.J), self.J, transpose_a=True)\n",
    "        return M, MI\n",
    "    \n",
    "\n",
    "\n",
    "    def call(self, x, di=None):\n",
    "        # build M and its inverse       \n",
    "        M, MI=self.get_M()\n",
    "        # build \n",
    "        if di is None:\n",
    "            d2 = tf.constant(np.zeros((self.N, 1), dtype=np_real), dtype=tf_real)\n",
    "        else:\n",
    "            d2 = di\n",
    "        return [tf.matmul(x, M), tf.matmul(MI, d2)]\n"
   ]
  },
  {
   "cell_type": "markdown",
   "metadata": {},
   "source": [
    "### Parameter for squeezing"
   ]
  },
  {
   "cell_type": "code",
   "execution_count": 10,
   "metadata": {},
   "outputs": [],
   "source": [
    "r_np=0.88;\n",
    "theta_np=np.pi/4;"
   ]
  },
  {
   "cell_type": "markdown",
   "metadata": {},
   "source": [
    "## Haar interferometer"
   ]
  },
  {
   "cell_type": "code",
   "execution_count": 11,
   "metadata": {},
   "outputs": [],
   "source": [
    "class ConstantHaarLayer(layers.Layer):\n",
    "    \"\"\"\n",
    "        Define a linear random layer corresponding to the\n",
    "        a = U a\n",
    "        with U a Haar unitary complex matrix\n",
    "        In the R space, corresponds to\n",
    "        x = R x\n",
    "        In input has input n, the size of the R vector (must be even)\n",
    "\n",
    "        The Haar unitary matrix is generated by the qutip package (qtip.org)\n",
    "\n",
    "\n",
    "        :param N: dimension\n",
    "\n",
    "        :output x M\n",
    "        :output b = M^(-1) d\n",
    "\n",
    "    \"\"\"\n",
    "\n",
    "    def __init__(self, N=10, **kwargs):\n",
    "        super(ConstantHaarLayer, self).__init__(**kwargs)\n",
    "        assert N % 2 == 0, \" Dimension must be even \"\n",
    "        self.N = N\n",
    "        n = np.floor_divide(self.N, 2)\n",
    "        Rx, Rp, J = RQRP(N)\n",
    "        self.Rx = tf.constant(Rx, dtype=tf_real)\n",
    "        self.Rp = tf.constant(Rp, dtype=tf_real)\n",
    "        self.J = tf.constant(J, dtype=tf_real)\n",
    "        # generate the haar unitary\n",
    "        U=random_objects.rand_unitary_haar(n)\n",
    "        self.U = tf.constant(U.full())\n",
    "        # return the real and immaginary part\n",
    "        UR = tf.constant(np.real(U.full()),dtype=tf_real)\n",
    "        UI = tf.constant(np.imag(U.full()),dtype=tf_real)\n",
    "        # Build the symplectic matrix M\n",
    "        M = \\\n",
    "            tf.matmul(self.Rx, tf.matmul(UR, self.Rx, transpose_b=True)) +\\\n",
    "            tf.matmul(self.Rp, tf.matmul(UR, self.Rp, transpose_b=True)) -\\\n",
    "            tf.matmul(self.Rx, tf.matmul(UI, self.Rp, transpose_b=True)) +\\\n",
    "            tf.matmul(self.Rp, tf.matmul(UI, self.Rx, transpose_b=True))\n",
    "        # Inverse of M\n",
    "        MI = tf.matmul(tf.matmul(M, self.J), self.J, transpose_a=True)\n",
    "        self.M=M\n",
    "        self.MI=MI\n",
    "\n",
    "    def get_M(self):\n",
    "        # return the symplectic operator\n",
    "        return self.M, self.MI\n",
    "\n",
    "    def call(self, x, di=None):\n",
    "        # no transpose here for M, as M is already transpose\n",
    "        if di is None:\n",
    "            d2 = tf.constant(np.zeros((self.N, 1), dtype=np_real), dtype=tf_real)\n",
    "        else:\n",
    "            d2 = di\n",
    "        return [tf.matmul(x, self.M), tf.matmul(self.MI, d2)]"
   ]
  },
  {
   "cell_type": "markdown",
   "metadata": {},
   "source": [
    "Creat an Haar layer object"
   ]
  },
  {
   "cell_type": "code",
   "execution_count": 12,
   "metadata": {},
   "outputs": [],
   "source": [
    "HAAR=ConstantHaarLayer(N)"
   ]
  },
  {
   "cell_type": "markdown",
   "metadata": {},
   "source": [
    "# Trainable random medium"
   ]
  },
  {
   "cell_type": "code",
   "execution_count": 13,
   "metadata": {},
   "outputs": [],
   "source": [
    "class RandomLayer(layers.Layer):\n",
    "    \"\"\"\n",
    "        Define a linear random layer corresponding to the\n",
    "        a = U a\n",
    "        with U a unitary complex matrix\n",
    "        In the R space, corresponds to\n",
    "        x = R x\n",
    "        In input has input n, the size of the R vector (must be even)\n",
    "\n",
    "        :param N: dimension\n",
    "        :param trainable_M: if false M is not trained, default is true\n",
    "\n",
    "        :output x M\n",
    "        :output b = M^(-1) d\n",
    "\n",
    "    \"\"\"\n",
    "\n",
    "    def __init__(self, N=10, **kwargs):\n",
    "        super(RandomLayer, self).__init__(**kwargs)\n",
    "        assert N % 2 == 0, \" Dimension must be even \"\n",
    "        self.trainable_M = True\n",
    "        self.N = N\n",
    "        n = np.floor_divide(self.N, 2)\n",
    "        wr_np = np.random.random((n, n))\n",
    "        wi_np = np.random.random((n, n))\n",
    "        self.WR = tf.Variable(wr_np, dtype=tf_real,\n",
    "                              trainable=self.trainable_M)\n",
    "        self.WI = tf.Variable(wi_np, dtype=tf_real,\n",
    "                              trainable=self.trainable_M)\n",
    "        Rx, Rp, J = RQRP(N)\n",
    "        self.Rx = tf.constant(Rx, dtype=tf_real)\n",
    "        self.Rp = tf.constant(Rp, dtype=tf_real)\n",
    "        self.J = tf.constant(J, dtype=tf_real)\n",
    "\n",
    "\n",
    "    def call(self, x, di=None):\n",
    "        # generate symmetric matrix\n",
    "        HR = self.WR+tf.transpose(self.WR)\n",
    "        # generate an antisymmetric matrix\n",
    "        HI = self.WI-tf.transpose(self.WI)\n",
    "        # exponentiate the Hermitian matrix time the imaginary unit\n",
    "        U = tf.linalg.expm(tf.complex(-HI, HR))\n",
    "        # return the real and immaginary part\n",
    "        UR = tf.math.real(U)\n",
    "        UI = tf.math.imag(U)\n",
    "        # Build the symplectic matrix M\n",
    "        M = \\\n",
    "            tf.matmul(self.Rx, tf.matmul(UR, self.Rx, transpose_b=True)) +\\\n",
    "            tf.matmul(self.Rp, tf.matmul(UR, self.Rp, transpose_b=True)) -\\\n",
    "            tf.matmul(self.Rx, tf.matmul(UI, self.Rp, transpose_b=True)) +\\\n",
    "            tf.matmul(self.Rp, tf.matmul(UI, self.Rx, transpose_b=True))\n",
    "        # Inverse of M\n",
    "        MI = tf.matmul(tf.matmul(M, self.J), self.J, transpose_a=True)\n",
    "        if di is None:\n",
    "            d2 = tf.constant(np.zeros((self.N, 1), dtype=np_real), dtype=tf_real)\n",
    "        else:\n",
    "            d2 = di\n",
    "        return [tf.matmul(x, M), tf.matmul(MI, d2)]"
   ]
  },
  {
   "cell_type": "markdown",
   "metadata": {},
   "source": [
    "Random layer object"
   ]
  },
  {
   "cell_type": "code",
   "execution_count": 14,
   "metadata": {},
   "outputs": [],
   "source": [
    "R=RandomLayer(N)"
   ]
  },
  {
   "cell_type": "markdown",
   "metadata": {},
   "source": [
    "## Build the model\n",
    "squeezed states are generated and mixed by a random medium and then go into an Haar Inteferometer"
   ]
  },
  {
   "cell_type": "code",
   "execution_count": 15,
   "metadata": {},
   "outputs": [],
   "source": [
    "xin = tf.keras.layers.Input(N)\n",
    "x1, a1 = HAAR(xin)\n",
    "x1, a1 = R(x1,a1)\n",
    "for j in range(n):\n",
    "    x1, a1 = SingleModeSqueezer(N, r_np=r_np, theta_np=theta_np, n_squeezed=j, trainable=False)(x1,a1)\n",
    "chir, chii = vacuum(x1, a1)\n",
    "model = tf.keras.Model(inputs = xin, outputs=[chir, chii])"
   ]
  },
  {
   "cell_type": "code",
   "execution_count": 16,
   "metadata": {},
   "outputs": [
    {
     "data": {
      "text/plain": [
       "12"
      ]
     },
     "execution_count": 16,
     "metadata": {},
     "output_type": "execute_result"
    }
   ],
   "source": [
    "model.input_shape[1]"
   ]
  },
  {
   "cell_type": "code",
   "execution_count": 17,
   "metadata": {},
   "outputs": [
    {
     "name": "stdout",
     "output_type": "stream",
     "text": [
      "Model: \"model\"\n",
      "__________________________________________________________________________________________________\n",
      "Layer (type)                    Output Shape         Param #     Connected to                     \n",
      "==================================================================================================\n",
      "input_1 (InputLayer)            [(None, 12)]         0                                            \n",
      "__________________________________________________________________________________________________\n",
      "constant_haar_layer (ConstantHa [(None, 12), (12, 1) 0           input_1[0][0]                    \n",
      "__________________________________________________________________________________________________\n",
      "random_layer (RandomLayer)      [(None, 12), (12, 1) 72          constant_haar_layer[0][0]        \n",
      "                                                                 constant_haar_layer[0][1]        \n",
      "__________________________________________________________________________________________________\n",
      "single_mode_squeezer (SingleMod [(None, 12), (12, 1) 2           random_layer[0][0]               \n",
      "                                                                 random_layer[0][1]               \n",
      "__________________________________________________________________________________________________\n",
      "single_mode_squeezer_1 (SingleM [(None, 12), (12, 1) 2           single_mode_squeezer[0][0]       \n",
      "                                                                 single_mode_squeezer[0][1]       \n",
      "__________________________________________________________________________________________________\n",
      "single_mode_squeezer_2 (SingleM [(None, 12), (12, 1) 2           single_mode_squeezer_1[0][0]     \n",
      "                                                                 single_mode_squeezer_1[0][1]     \n",
      "__________________________________________________________________________________________________\n",
      "single_mode_squeezer_3 (SingleM [(None, 12), (12, 1) 2           single_mode_squeezer_2[0][0]     \n",
      "                                                                 single_mode_squeezer_2[0][1]     \n",
      "__________________________________________________________________________________________________\n",
      "single_mode_squeezer_4 (SingleM [(None, 12), (12, 1) 2           single_mode_squeezer_3[0][0]     \n",
      "                                                                 single_mode_squeezer_3[0][1]     \n",
      "__________________________________________________________________________________________________\n",
      "single_mode_squeezer_5 (SingleM [(None, 12), (12, 1) 2           single_mode_squeezer_4[0][0]     \n",
      "                                                                 single_mode_squeezer_4[0][1]     \n",
      "__________________________________________________________________________________________________\n",
      "vacuum_layer (VacuumLayer)      [(None, 1), (None, 1 156         single_mode_squeezer_5[0][0]     \n",
      "                                                                 single_mode_squeezer_5[0][1]     \n",
      "==================================================================================================\n",
      "Total params: 240\n",
      "Trainable params: 72\n",
      "Non-trainable params: 168\n",
      "__________________________________________________________________________________________________\n"
     ]
    }
   ],
   "source": [
    "model.summary()"
   ]
  },
  {
   "cell_type": "markdown",
   "metadata": {},
   "source": [
    "# Dummy input for the model\n",
    "The observables do not deped on x"
   ]
  },
  {
   "cell_type": "code",
   "execution_count": 18,
   "metadata": {},
   "outputs": [],
   "source": [
    "Nbatch=10\n",
    "xtrain = np.random.rand(Nbatch, N)-0.5"
   ]
  },
  {
   "cell_type": "markdown",
   "metadata": {},
   "source": [
    "# Differential photon counter layer for Gaussian states"
   ]
  },
  {
   "cell_type": "code",
   "execution_count": 19,
   "metadata": {},
   "outputs": [],
   "source": [
    "class CovarianceLayer(layers.Layer):\n",
    "    \"\"\"\n",
    "        Return the covariance of a characteristic function        \n",
    "        from the derivatives of the model\n",
    "\n",
    "        Given \n",
    "        x as 1xN vector\n",
    "        d as Nx1 vector\n",
    "        g as NxN symmetric matrix\n",
    "\n",
    "        For a Gaussian model one has\n",
    "\n",
    "        chi(x)=exp(-0.25 x^T g x+i x d)=chi_R+ i chi_I\n",
    "\n",
    "        d = gradient(chi_I(x)) at x=0\n",
    "\n",
    "        g(m,n) = -2.0 d^2 chi_R / ( dx_m dx_n)-2.0 (d chi_I / dx_m)( d chi_I/dx_n) \n",
    "        with all derivatives evaluate at x=0 and m,n =0,1, ..., N-1\n",
    "\n",
    "        Hence the matrix g is obtained by the Hessian of the model, \n",
    "        which can be calculated by the tf.gradient.jacobian function\n",
    "\n",
    "        In the constructor:\n",
    "        param: N: size of the of vector\n",
    "\n",
    "        In the call\n",
    "        param: c1: real part of chi\n",
    "        param: c2: imag part of chi\n",
    "        param: pullback: model to be derivated wrt x\n",
    "\n",
    "        Returns\n",
    "        -------\n",
    "        param: cov: covariance matrix g (N,N)\n",
    "        param: ci_x: expected R (=transpose of d) (1,N)\n",
    "        param: Hessian: Hessian at x =0 (N,N)\n",
    "    \"\"\"\n",
    "\n",
    "    def __init__(self, N, **kwargs):\n",
    "            super(CovarianceLayer, self).__init__(**kwargs)\n",
    "            # vector size\n",
    "            self.N = N\n",
    "            # constant x0 (not to be trained, x=0 for the derivatives)\n",
    "            self.x0 = tf.constant(np.zeros((1,self.N)), dtype=self.dtype)\n",
    "\n",
    "    @tf.function\n",
    "    def call(self, c1, c2, chi):         \n",
    "        x = self.x0 \n",
    "        with tf.GradientTape() as t1:\n",
    "            t1.watch(x) \n",
    "            with tf.GradientTape(persistent=True) as t2: \n",
    "                t2.watch(x)\n",
    "                cr, ci = chi(x)\n",
    "            cr_x = t2.gradient(cr, x)\n",
    "            ci_x = t2.gradient(ci, x)\n",
    "        d2cr= t1.jacobian(cr_x,x) # hessian \n",
    "        Hessian = tf.reshape(d2cr, [self.N,self.N])\n",
    "        cov = -2*(Hessian+tf.matmul(ci_x,ci_x,transpose_a=True))\n",
    "        del t2  \n",
    "        return cov, ci_x, Hessian\n",
    "\n",
    "\n",
    "class DifferentialGaussianLayer(layers.Layer):\n",
    "    \"\"\" Returns mean nj-nk and (nk-nk)^2 for a Gaussian model\n",
    "\n",
    "        In the constructor:\n",
    "        param: N: size of the of vector\n",
    "\n",
    "        In the call\n",
    "        param: c1: real part of chi\n",
    "        param: c2: imag part of chi\n",
    "        param: pullback: model to be derivated wrt x\n",
    "\n",
    "        Returns\n",
    "        -------\n",
    "        param: n : (1,n) tensor with <nj>\n",
    "        param: dn : (n,n) tensor with <nj-nk>\n",
    "        param: dn2 : (n,n) tensor with <(nj-nk)^2>\n",
    "\n",
    "    \"\"\"\n",
    "\n",
    "    def __init__(self, N, **kwargs):\n",
    "            super(DifferentialGaussianLayer, self).__init__(**kwargs)\n",
    "            # vector size\n",
    "            self.N = tf.constant(N)\n",
    "            self.n = tf.constant(np.floor_divide(N,2))\n",
    "            # covariance layer\n",
    "            self.covariance = CovarianceLayer(N)\n",
    "            # constant matrix to extract the modes\n",
    "            Rq, Rp, _ = RQRP(N)\n",
    "            self.Rq = tf.constant(Rq, dtype=tf_real)\n",
    "            self.Rp = tf.constant(Rp, dtype=tf_real)\n",
    "            # tensors of mixed derivatives\n",
    "            self.cxx = tf.zeros([1,N],dtype=self.dtype)\n",
    "            self.cxxyy = tf.zeros([N,N],dtype=self.dtype)\n",
    "\n",
    "    @tf.function\n",
    "    def build_differences(self, nb1):\n",
    "        # build a tensor with the differences\n",
    "        #\n",
    "        # param: nb1: tensor with shape (1,n)\n",
    "        #\n",
    "        # Returns\n",
    "        # param: dn: tensor nj-nk with shape (n,n)\n",
    "\n",
    "        dn = tf.zeros([self.n, self.n], dtype=self.dtype)\n",
    "        for j in tf.range(self.n):\n",
    "            nj = tf.gather_nd(nb1, [[0,j]])\n",
    "            for k in tf.range(j+1, self.n):\n",
    "                nk = tf.gather_nd(nb1, [[0,k]])\n",
    "                indices = [[j,k]]\n",
    "                dn = tf.tensor_scatter_nd_add(dn, indices, nj-nk)\n",
    "                indices = [[k,j]]\n",
    "                dn = tf.tensor_scatter_nd_add(dn, indices, -nj+nk)\n",
    "\n",
    "\n",
    "        return dn\n",
    "\n",
    "   \n",
    "    def call(self, c1, c2, chi):\n",
    "        # c1 and c2 are dummy here, but are needed to make a model with this layer\n",
    "        # chi is the model\n",
    "\n",
    "        g, d, hessian = self.covariance(c1, c2, chi)\n",
    "\n",
    "        cr_2x = tf.reshape(tf.linalg.diag_part(hessian), [1, self.N])\n",
    "        \n",
    "        dqq = tf.matmul(cr_2x, self.Rq)\n",
    "        dpp = tf.matmul(cr_2x, self.Rp)\n",
    "        lapl = dqq+dpp\n",
    "\n",
    "        nboson = -0.5*lapl-0.5\n",
    "\n",
    "        dn = self.build_differences(nboson)\n",
    "\n",
    "        gdiag = tf.linalg.diag_part(g)\n",
    "        d2 = tf.square(d)\n",
    "        d4 = tf.square(d2)\n",
    "\n",
    "        d2 = tf.squeeze(d2)\n",
    "        d4 = tf.squeeze(d4)\n",
    "\n",
    "        gjkjk = tf.square(g)\n",
    "\n",
    "        gjjkk = tf.tensordot(gdiag,gdiag, axes=0)\n",
    "\n",
    "        gjjdkdk = tf.tensordot(gdiag, d2, axes =0)\n",
    "\n",
    "        gkkdjdj = tf.tensordot(d2, gdiag, axes =0)\n",
    "\n",
    "        dd = tf.squeeze(tf.tensordot(d,d,axes=0)) #[N,N]\n",
    "        gjkdjdk = tf.multiply(g, dd)\n",
    "\n",
    "        djdjdkdk = tf.tensordot(d2, d2, axes = 0)\n",
    "\n",
    "        cr_xxyy= 0.5*gjkjk +0.25*gjjkk+0.5*gjjdkdk+2.0*gjkdjdk+0.5*gkkdjdj+djdjdkdk\n",
    "\n",
    "\n",
    "        dn2 = tf.zeros([self.n,self.n], dtype=self.dtype)\n",
    "\n",
    "        for j in tf.range(self.n):\n",
    "            qj = 2*j\n",
    "            pj = 2*j+1\n",
    "            # nabla^4 j\n",
    "            d_qj4 = tf.gather_nd(cr_xxyy,  [[qj,qj]]) # d_qjqjqjqj\n",
    "            d_pj4 = tf.gather_nd(cr_xxyy,  [[pj,pj]]) # d_qjqjqjqj\n",
    "            d_qj2 = tf.gather_nd(cr_2x,  [[0,qj]]) # d_qjqj\n",
    "            d_pj2 = tf.gather_nd(cr_2x,  [[0,pj]]) # d_pjpj\n",
    "            n4j = d_qj4+d_pj4+2*d_qj2*d_pj2 #nabla^4_j\n",
    "            for k in tf.range(j+1,self.n):\n",
    "                qk = 2*k\n",
    "                pk = 2*k+1\n",
    "                # nabla^4 k\n",
    "                d_qk4 = tf.gather_nd(cr_xxyy,  [[qk,qk]]) # d_qjqjqjqj\n",
    "                d_pk4 = tf.gather_nd(cr_xxyy,  [[pk,pk]]) # d_qjqjqjqj\n",
    "                d_qk2 = tf.gather_nd(cr_2x,  [[0,qk]]) # d_qjqj\n",
    "                d_pk2 = tf.gather_nd(cr_2x,  [[0,pk]]) # d_pjpj\n",
    "                n4k = d_qk4+d_pk4+2*d_qk2*d_pk2 #nabla^4 k\n",
    "\n",
    "                # nabla^2_j nabla^2_k\n",
    "                n2j2k = tf.gather_nd(cr_xxyy, [[qj,qk]])+\\\n",
    "                    tf.gather_nd(cr_xxyy, [[qj,pk]])+\\\n",
    "                    tf.gather_nd(cr_xxyy, [[qk,pj]])+\\\n",
    "                    tf.gather_nd(cr_xxyy, [[pk,pj]])\n",
    "                # store the final value\n",
    "                njnk = 0.25*(n4j+n4k)-0.5*n2j2k-0.5\n",
    "                indices =[[j,k]]\n",
    "                dn2 = tf.tensor_scatter_nd_add(dn2, indices, njnk)\n",
    "                indices =[[k,j]]\n",
    "                dn2 = tf.tensor_scatter_nd_add(dn2, indices, njnk)\n",
    "\n",
    "        return nboson, dn, dn2\n"
   ]
  },
  {
   "cell_type": "code",
   "execution_count": 20,
   "metadata": {},
   "outputs": [],
   "source": [
    "Diff=DifferentialGaussianLayer(N)\n",
    "nboson, Dn, Dn2 = Diff(chir,chii, model)\n",
    "HModel = tf.keras.Model(inputs = xin, outputs=[nboson,Dn2])"
   ]
  },
  {
   "cell_type": "markdown",
   "metadata": {},
   "source": [
    "Print the matrix of <(nj-nk)^2>"
   ]
  },
  {
   "cell_type": "code",
   "execution_count": 21,
   "metadata": {},
   "outputs": [
    {
     "name": "stdout",
     "output_type": "stream",
     "text": [
      "[[0 4.21387959 4.32355595 3.9454565 4.45358562 2.69194889]\n",
      " [4.21387959 0 3.04357052 3.52603722 4.13223362 3.38680649]\n",
      " [4.32355595 3.04357052 0 2.25187349 3.59768105 3.88935709]\n",
      " [3.9454565 3.52603722 2.25187349 0 4.12029266 3.94680214]\n",
      " [4.45358562 4.13223362 3.59768105 4.12029266 0 3.60606432]\n",
      " [2.69194889 3.38680649 3.88935709 3.94680214 3.60606432 0]]\n"
     ]
    }
   ],
   "source": [
    "n_out,Dn_out=HModel(xtrain)\n",
    "tf.print(Dn_out)"
   ]
  },
  {
   "cell_type": "markdown",
   "metadata": {},
   "source": [
    "Initial differential photons between mode 0 and mode 1"
   ]
  },
  {
   "cell_type": "code",
   "execution_count": 22,
   "metadata": {},
   "outputs": [
    {
     "name": "stdout",
     "output_type": "stream",
     "text": [
      "[4.21387959]\n"
     ]
    }
   ],
   "source": [
    "tf.print(tf.gather_nd(Dn_out,[[0,1]]))"
   ]
  },
  {
   "cell_type": "markdown",
   "metadata": {},
   "source": [
    "Photon numbers before training"
   ]
  },
  {
   "cell_type": "code",
   "execution_count": 23,
   "metadata": {},
   "outputs": [
    {
     "name": "stdout",
     "output_type": "stream",
     "text": [
      "[[0.996120453 0.996120691 0.996120691 0.99612093 0.996120691 0.99612]]\n"
     ]
    }
   ],
   "source": [
    "tf.print(n_out)"
   ]
  },
  {
   "cell_type": "markdown",
   "metadata": {},
   "source": [
    "Mean number of photons"
   ]
  },
  {
   "cell_type": "code",
   "execution_count": 24,
   "metadata": {},
   "outputs": [
    {
     "name": "stdout",
     "output_type": "stream",
     "text": [
      "0.996120512\n"
     ]
    }
   ],
   "source": [
    "tf.print(tf.reduce_mean(n_out))"
   ]
  },
  {
   "cell_type": "markdown",
   "metadata": {},
   "source": [
    "## Model with the target output to train"
   ]
  },
  {
   "cell_type": "markdown",
   "metadata": {},
   "source": [
    "Model with the custom ouput to train"
   ]
  },
  {
   "cell_type": "code",
   "execution_count": 25,
   "metadata": {},
   "outputs": [],
   "source": [
    "Dn_out01=tf.gather_nd(Dn2,[[0,1]]) \n",
    "train_out=tf.exp(Dn_out01,name='Dn01')\n",
    "nboson0=tf.gather_nd(nboson,[[0,0]], name='n0')\n",
    "nboson1=tf.gather_nd(nboson,[[0,1]], name='n1')\n",
    "Train_model = tf.keras.Model(inputs = xin, outputs=[train_out, nboson0, nboson1]) "
   ]
  },
  {
   "cell_type": "markdown",
   "metadata": {},
   "source": [
    "Define the custom loss to train the model for maximum output"
   ]
  },
  {
   "cell_type": "code",
   "execution_count": 26,
   "metadata": {},
   "outputs": [],
   "source": [
    "def custom_loss(yt,yp):\n",
    "    # the loss only return the output of the network yp\n",
    "    # that need to be minimized\n",
    "    return yp"
   ]
  },
  {
   "cell_type": "code",
   "execution_count": 27,
   "metadata": {},
   "outputs": [],
   "source": [
    "Train_model.compile(loss=custom_loss, optimizer='Adam')"
   ]
  },
  {
   "cell_type": "markdown",
   "metadata": {},
   "source": [
    "# Transform model"
   ]
  },
  {
   "cell_type": "code",
   "execution_count": 28,
   "metadata": {},
   "outputs": [],
   "source": [
    "def partial(j, fun , k):\n",
    "    # return the partial derivative function of  wrt to k[j]\n",
    "    # as a function of k, the shape of the output is [[1]]\n",
    "    #\n",
    "    # param : j : index of component in range(N)\n",
    "    # param : fun :  function to be derived\n",
    "    # param : k : input tensor to fun [1,N]\n",
    "    #\n",
    "    # return function with shape [1,] \n",
    "    def L(k):\n",
    "        with tf.GradientTape() as tape:\n",
    "            tape.watch(k)\n",
    "            y = fun(k)\n",
    "        dy = tf.squeeze(tape.gradient(y,k))\n",
    "        return tf.gather_nd(dy, [[j]])\n",
    "    return L\n",
    "\n",
    "def doublepartial(j, fun, k):\n",
    "    # return the laplacian of fun wrt to k[j]\n",
    "    #\n",
    "    # param: j : index of the derived variable\n",
    "    # param: fun : function to be derivate\n",
    "    # param: k : input tensor of fun\n",
    "    #\n",
    "    # return a scalar with the second derivative\n",
    "    dy1 = partial(j, fun, k)\n",
    "    dy2 = partial(j, dy1, k)\n",
    "    return dy2\n",
    "\n",
    "def laplacian(modeindex, fun, k):\n",
    "    # return the laplacian with respect to mode index\n",
    "    #\n",
    "    # param: modeindex : index of mode in range(n)\n",
    "    # param: fun : scalar function to be derived\n",
    "    # param: k : input tensor\n",
    "    j = 2*modeindex\n",
    "    dj0 = doublepartial(j, fun, k)\n",
    "    dj1 = doublepartial(j+1, fun, k)\n",
    "    def L(k):\n",
    "        return dj0(k)+dj1(k)\n",
    "    return L\n",
    "\n",
    "def Pr(nbar, Qfun, mydtype=tf_real):\n",
    "    # Boson sample operator\n",
    "    # Return the probability of sequence in nbar\n",
    "    # from the Q-transform of the model in the\n",
    "    # k-function Qfun\n",
    "    #\n",
    "    # param: nbar : a list of n integer, as [2,3]\n",
    "    # param: Qfun : Q-transform of a model\n",
    "    #\n",
    "    # Returns the probability as a scalar tensor\n",
    "    n=len(nbar)\n",
    "    N=2*n\n",
    "    x = tf.Variable(tf.zeros([1, N],dtype=mydtype))\n",
    "    dm = Qfun\n",
    "    for j in tf.range(n):\n",
    "        for _ in tf.range(nbar[j]):\n",
    "            dm = laplacian(j, dm, x)\n",
    "    \n",
    "    nbar_sum=tf.reduce_sum(nbar).numpy()\n",
    "    scale=1\n",
    "    for j in range(n):\n",
    "        nj = nbar[j]\n",
    "        scale = scale*np.math.factorial(nj)    \n",
    "    \n",
    "    scale = scale*np.power(2.0,nbar_sum)\n",
    "    \n",
    "    scale = 1.0/scale\n",
    "    \n",
    "    out=tf.multiply(tf.constant(scale, dtype=mydtype),dm(x))\n",
    "    \n",
    "    \n",
    "    return out\n",
    "\n",
    "class QTransformLayer(tf.keras.layers.Layer):\n",
    "    \"\"\" Return a layer for the Q-transform\n",
    "    Usage\n",
    "    QLayer = QTransformLayer(N, model)\n",
    "    kin=tf.keras.layers.Input([N],dtype=model.dtype)\n",
    "    Q = QLayer(kin)\n",
    "    Qrho = tf.keras.Model(inputs=kin, outputs=Q) \n",
    "    \"\"\"\n",
    "    \n",
    "    def __init__(self, N, model):\n",
    "        super(QTransformLayer, self).__init__()\n",
    "        self.N = N\n",
    "        self.EN = tf.eye(self.N, dtype=self.dtype)\n",
    "        self.model=model\n",
    "        \n",
    "        x0 = tf.zeros([1,N],dtype=model.dtype)\n",
    "        covlayer = CovarianceLayer(N)\n",
    "        cr, ci = model(x0)\n",
    "        cov1, mean_R1, _ = covlayer(cr, ci,model)\n",
    "        self.g=cov1\n",
    "        self.d=mean_R1\n",
    "\n",
    "    def call(self, kin):\n",
    "\n",
    "        g=self.g\n",
    "        d=self.d\n",
    "        A= tf.multiply(0.5,g+self.EN)\n",
    "        AI = tf.linalg.inv(A)\n",
    "\n",
    "\n",
    "        scale = tf.math.pow(tf.linalg.det(A), tf.constant(-0.5)) \n",
    "        \n",
    "        k = kin-d\n",
    "        yR  = tf.matmul(AI, k, transpose_b=True)\n",
    "        gDot = tf.matmul(-0.5*k, yR)\n",
    "        f = tf.exp(gDot)\n",
    "        f = tf.multiply(f,tf.exp(tf.matmul(0.5*kin,kin,transpose_b=True)))\n",
    "        f = tf.multiply(f, scale)\n",
    "\n",
    "        return f\n",
    "        \n",
    "\n",
    "def getQTransformModel(model):\n",
    "    \"\"\" Return a model with the Qtransform \n",
    "    \n",
    "    Param\n",
    "    -----\n",
    "    param: model: model to be transformed\n",
    "\n",
    "    Returns\n",
    "    -------\n",
    "    The vector kin and the model Qrho corresponding\n",
    "    to the modified Q-representation of the model\n",
    "    \"\"\"\n",
    "    N=model.input_shape[1]\n",
    "    QLayer = QTransformLayer(N, model)\n",
    "    kin=tf.keras.layers.Input([N],dtype=model.dtype)\n",
    "    Q = QLayer(kin)\n",
    "    Qrho = tf.keras.Model(inputs=kin, outputs=Q) \n",
    "    return kin, Qrho\n"
   ]
  },
  {
   "cell_type": "code",
   "execution_count": 29,
   "metadata": {},
   "outputs": [],
   "source": [
    "kin, Qrho =getQTransformModel(model)"
   ]
  },
  {
   "cell_type": "code",
   "execution_count": 30,
   "metadata": {},
   "outputs": [
    {
     "name": "stdout",
     "output_type": "stream",
     "text": [
      "Model: \"model_3\"\n",
      "_________________________________________________________________\n",
      "Layer (type)                 Output Shape              Param #   \n",
      "=================================================================\n",
      "input_2 (InputLayer)         [(None, 12)]              0         \n",
      "_________________________________________________________________\n",
      "q_transform_layer (QTransfor (None, None)              240       \n",
      "=================================================================\n",
      "Total params: 240\n",
      "Trainable params: 72\n",
      "Non-trainable params: 168\n",
      "_________________________________________________________________\n"
     ]
    }
   ],
   "source": [
    "Qrho.summary()"
   ]
  },
  {
   "cell_type": "markdown",
   "metadata": {},
   "source": [
    "# All the patterns with max one photon per mode"
   ]
  },
  {
   "cell_type": "code",
   "execution_count": 31,
   "metadata": {},
   "outputs": [],
   "source": [
    "def patterns(nphotons, nmodes):\n",
    "    # Return the patterns of nmodes with maximal nphotons\n",
    "    \n",
    "    # generate a list of zero\n",
    "    l1=[0]*nmodes\n",
    "    # set nphotons 1\n",
    "    for j in range(nphotons):\n",
    "        l1[j]=1\n",
    "    # compute all the permutations (zeros and one are distinguishable)\n",
    "    nlist=it.permutations(l1,nmodes) # return iterators\n",
    "    # convert to list the iterators\n",
    "    ln=list(nlist)\n",
    "    # sort the list in reverse order to have the patterns with more ones first\n",
    "    ln.sort(reverse=True)\n",
    "    # remove duplicates (remove adjactent identical elements after sorting)\n",
    "    ln=list(ln for ln,_ in it.groupby(ln))\n",
    "    return ln"
   ]
  },
  {
   "cell_type": "code",
   "execution_count": 32,
   "metadata": {},
   "outputs": [],
   "source": [
    "ln =patterns(2,n)"
   ]
  },
  {
   "cell_type": "markdown",
   "metadata": {},
   "source": [
    "Print number of patterns"
   ]
  },
  {
   "cell_type": "code",
   "execution_count": 33,
   "metadata": {},
   "outputs": [
    {
     "name": "stdout",
     "output_type": "stream",
     "text": [
      "15\n"
     ]
    }
   ],
   "source": [
    "print(len(ln))"
   ]
  },
  {
   "cell_type": "markdown",
   "metadata": {},
   "source": [
    "Print the patterns"
   ]
  },
  {
   "cell_type": "code",
   "execution_count": 34,
   "metadata": {},
   "outputs": [
    {
     "name": "stdout",
     "output_type": "stream",
     "text": [
      "[(1, 1, 0, 0, 0, 0), (1, 0, 1, 0, 0, 0), (1, 0, 0, 1, 0, 0), (1, 0, 0, 0, 1, 0), (1, 0, 0, 0, 0, 1), (0, 1, 1, 0, 0, 0), (0, 1, 0, 1, 0, 0), (0, 1, 0, 0, 1, 0), (0, 1, 0, 0, 0, 1), (0, 0, 1, 1, 0, 0), (0, 0, 1, 0, 1, 0), (0, 0, 1, 0, 0, 1), (0, 0, 0, 1, 1, 0), (0, 0, 0, 1, 0, 1), (0, 0, 0, 0, 1, 1)]\n"
     ]
    }
   ],
   "source": [
    "print(ln)"
   ]
  },
  {
   "cell_type": "markdown",
   "metadata": {},
   "source": [
    "## Make a plot versus the probability"
   ]
  },
  {
   "cell_type": "markdown",
   "metadata": {},
   "source": [
    "Build an array of photon number sampling"
   ]
  },
  {
   "cell_type": "code",
   "execution_count": 35,
   "metadata": {},
   "outputs": [
    {
     "name": "stdout",
     "output_type": "stream",
     "text": [
      "Sample 0 of 15 pattern (1, 1, 0, 0, 0, 0)\n",
      "Probability  0.002795807\n",
      "Sample 1 of 15 pattern (1, 0, 1, 0, 0, 0)\n",
      "Probability  0.00055140443\n",
      "Sample 2 of 15 pattern (1, 0, 0, 1, 0, 0)\n",
      "Probability  0.0064442465\n",
      "Sample 3 of 15 pattern (1, 0, 0, 0, 1, 0)\n",
      "Probability  0.006032652\n",
      "Sample 4 of 15 pattern (1, 0, 0, 0, 0, 1)\n",
      "Probability  0.026232112\n",
      "Sample 5 of 15 pattern (0, 1, 1, 0, 0, 0)\n",
      "Probability  0.015394064\n",
      "Sample 6 of 15 pattern (0, 1, 0, 1, 0, 0)\n",
      "Probability  0.007709383\n",
      "Sample 7 of 15 pattern (0, 1, 0, 0, 1, 0)\n",
      "Probability  0.0057505593\n",
      "Sample 8 of 15 pattern (0, 1, 0, 0, 0, 1)\n",
      "Probability  0.009916859\n",
      "Sample 9 of 15 pattern (0, 0, 1, 1, 0, 0)\n",
      "Probability  0.027298404\n",
      "Sample 10 of 15 pattern (0, 0, 1, 0, 1, 0)\n",
      "Probability  0.013670439\n",
      "Sample 11 of 15 pattern (0, 0, 1, 0, 0, 1)\n",
      "Probability  0.0014739049\n",
      "Sample 12 of 15 pattern (0, 0, 0, 1, 1, 0)\n",
      "Probability  0.0053523593\n",
      "Sample 13 of 15 pattern (0, 0, 0, 1, 0, 1)\n",
      "Probability  0.00049497746\n",
      "Sample 14 of 15 pattern (0, 0, 0, 0, 1, 1)\n",
      "Probability  0.013476323\n",
      "Done\n",
      "CPU times: user 639 ms, sys: 1.33 ms, total: 640 ms\n",
      "Wall time: 631 ms\n"
     ]
    }
   ],
   "source": [
    "%%time\n",
    "npatterns=len(ln)\n",
    "Pn = np.zeros([npatterns,], dtype=np.float32)\n",
    "Pth = np.zeros_like(Pn)\n",
    "xaxis=np.zeros_like(Pn)\n",
    "for nbar in range(npatterns):\n",
    "    print('Sample '+repr(nbar)+' of '+repr(npatterns)+' pattern '+repr(ln[nbar]))\n",
    "    Pn[nbar]=Pr(ln[nbar],Qrho).numpy()\n",
    "    tf.print('Probability ', Pn[nbar])\n",
    "    xaxis[nbar]=nbar\n",
    "print('Done')"
   ]
  },
  {
   "cell_type": "markdown",
   "metadata": {},
   "source": [
    "Store data for plot"
   ]
  },
  {
   "cell_type": "code",
   "execution_count": 36,
   "metadata": {},
   "outputs": [],
   "source": [
    "ln2u=ln\n",
    "Pn2u=Pn"
   ]
  },
  {
   "cell_type": "markdown",
   "metadata": {},
   "source": [
    "Plot"
   ]
  },
  {
   "cell_type": "code",
   "execution_count": 37,
   "metadata": {},
   "outputs": [
    {
     "name": "stderr",
     "output_type": "stream",
     "text": [
      "/home/claudio/anaconda3/envs/tf/lib/python3.8/site-packages/matplotlib/text.py:1165: FutureWarning: elementwise comparison failed; returning scalar instead, but in the future will perform elementwise comparison\n",
      "  if s != self._text:\n"
     ]
    },
    {
     "data": {
      "text/plain": [
       "(0.0, 0.07)"
      ]
     },
     "execution_count": 37,
     "metadata": {},
     "output_type": "execute_result"
    },
    {
     "data": {
      "image/png": "[encoded data removed]",
      "text/plain": [
       "<Figure size 432x288 with 1 Axes>"
      ]
     },
     "metadata": {
      "needs_background": "light"
     },
     "output_type": "display_data"
    }
   ],
   "source": [
    "plt.bar(range(len(ln2u)),Pn2u)\n",
    "plt.xlabel(np.transpose(np.array(ln2u)), fontsize=12);\n",
    "plt.ylabel('Sample Probability Pr (2 photons)');\n",
    "plt.ylim((0,0.07))"
   ]
  },
  {
   "cell_type": "markdown",
   "metadata": {},
   "source": [
    "## Patterns with 4 photons"
   ]
  },
  {
   "cell_type": "code",
   "execution_count": 38,
   "metadata": {},
   "outputs": [
    {
     "name": "stdout",
     "output_type": "stream",
     "text": [
      "Patterns with 4 photons  15\n",
      "Sample 0 of 15 pattern (1, 1, 1, 1, 0, 0)\n",
      "Probability 0.00074543664\n",
      "Sample 1 of 15 pattern (1, 1, 1, 0, 1, 0)\n",
      "Probability 0.00059175567\n",
      "Sample 2 of 15 pattern (1, 1, 1, 0, 0, 1)\n",
      "Probability 0.004452444\n",
      "Sample 3 of 15 pattern (1, 1, 0, 1, 1, 0)\n",
      "Probability 0.0010165549\n",
      "Sample 4 of 15 pattern (1, 1, 0, 1, 0, 1)\n",
      "Probability 0.00035650108\n",
      "Sample 5 of 15 pattern (1, 1, 0, 0, 1, 1)\n",
      "Probability 0.001089771\n",
      "Sample 6 of 15 pattern (1, 0, 1, 1, 1, 0)\n",
      "Probability 0.0005489159\n",
      "Sample 7 of 15 pattern (1, 0, 1, 1, 0, 1)\n",
      "Probability 0.004960047\n",
      "Sample 8 of 15 pattern (1, 0, 1, 0, 1, 1)\n",
      "Probability 0.0021354295\n",
      "Sample 9 of 15 pattern (1, 0, 0, 1, 1, 1)\n",
      "Probability 0.002142947\n",
      "Sample 10 of 15 pattern (0, 1, 1, 1, 1, 0)\n",
      "Probability 0.0016146487\n",
      "Sample 11 of 15 pattern (0, 1, 1, 1, 0, 1)\n",
      "Probability 0.0026918112\n",
      "Sample 12 of 15 pattern (0, 1, 1, 0, 1, 1)\n",
      "Probability 0.0008748678\n",
      "Sample 13 of 15 pattern (0, 1, 0, 1, 1, 1)\n",
      "Probability 0.00062028295\n",
      "Sample 14 of 15 pattern (0, 0, 1, 1, 1, 1)\n",
      "Probability 0.0021288237\n",
      "Done\n",
      "CPU times: user 20.7 s, sys: 558 µs, total: 20.7 s\n",
      "Wall time: 20.7 s\n"
     ]
    }
   ],
   "source": [
    "%%time\n",
    "ln =patterns(4,n)\n",
    "print(\"Patterns with 4 photons \",len(ln))\n",
    "npatterns=len(ln)\n",
    "Pn = np.zeros([npatterns,], dtype=np.float32)\n",
    "Pth = np.zeros_like(Pn)\n",
    "xaxis=np.zeros_like(Pn)\n",
    "for nbar in range(npatterns):\n",
    "    print('Sample '+repr(nbar)+' of '+repr(npatterns)+' pattern '+repr(ln[nbar]))\n",
    "    Pn[nbar]=Pr(ln[nbar],Qrho).numpy()\n",
    "    tf.print(\"Probability\", Pn[nbar])\n",
    "    xaxis[nbar]=nbar\n",
    "print('Done')\n"
   ]
  },
  {
   "cell_type": "code",
   "execution_count": 39,
   "metadata": {},
   "outputs": [
    {
     "data": {
      "image/png": "[encoded data removed]",
      "text/plain": [
       "<Figure size 432x288 with 1 Axes>"
      ]
     },
     "metadata": {
      "needs_background": "light"
     },
     "output_type": "display_data"
    }
   ],
   "source": [
    "plt.bar(range(npatterns),Pn)\n",
    "plt.xlabel(np.transpose(np.array(ln)), fontsize=12);\n",
    "plt.ylabel('Sample Probability Pr (4 photons)');"
   ]
  },
  {
   "cell_type": "markdown",
   "metadata": {},
   "source": [
    "# Train the model and recompute probabilities"
   ]
  },
  {
   "cell_type": "code",
   "execution_count": 40,
   "metadata": {},
   "outputs": [
    {
     "name": "stdout",
     "output_type": "stream",
     "text": [
      "CPU times: user 52.2 s, sys: 3.66 s, total: 55.9 s\n",
      "Wall time: 30.6 s\n"
     ]
    }
   ],
   "source": [
    "%%time\n",
    "history=Train_model.fit(xtrain,np.zeros_like(xtrain),epochs=5000,verbose=0)"
   ]
  },
  {
   "cell_type": "markdown",
   "metadata": {},
   "source": [
    "Plot training history"
   ]
  },
  {
   "cell_type": "code",
   "execution_count": 41,
   "metadata": {},
   "outputs": [
    {
     "data": {
      "text/plain": [
       "[<matplotlib.lines.Line2D at 0x7f67204fc4f0>]"
      ]
     },
     "execution_count": 41,
     "metadata": {},
     "output_type": "execute_result"
    },
    {
     "data": {
      "image/png": "[encoded data removed]",
      "text/plain": [
       "<Figure size 432x288 with 1 Axes>"
      ]
     },
     "metadata": {
      "needs_background": "light"
     },
     "output_type": "display_data"
    }
   ],
   "source": [
    "plt.plot(history.history['tf.math.exp_loss'])"
   ]
  },
  {
   "cell_type": "markdown",
   "metadata": {},
   "source": [
    "Plot the training history in log scale (corresponding to Dn2_01, n0 and n1)"
   ]
  },
  {
   "cell_type": "code",
   "execution_count": 42,
   "metadata": {},
   "outputs": [
    {
     "data": {
      "text/plain": [
       "(0.0, 4.0)"
      ]
     },
     "execution_count": 42,
     "metadata": {},
     "output_type": "execute_result"
    },
    {
     "data": {
      "image/png": "[encoded data removed]",
      "text/plain": [
       "<Figure size 432x288 with 1 Axes>"
      ]
     },
     "metadata": {
      "needs_background": "light"
     },
     "output_type": "display_data"
    }
   ],
   "source": [
    "plt.plot(np.log(history.history['tf.math.exp_loss']))\n",
    "plt.plot(history.history['tf.compat.v1.gather_nd_1_loss'])\n",
    "plt.plot(history.history['tf.compat.v1.gather_nd_2_loss'])\n",
    "plt.ylim((0,4.0))"
   ]
  },
  {
   "cell_type": "markdown",
   "metadata": {},
   "source": [
    "The mean photon number does not change in the modes,\n",
    "but the difference between the number of photons is zero"
   ]
  },
  {
   "cell_type": "markdown",
   "metadata": {},
   "source": [
    "## Recompute the transform after the training"
   ]
  },
  {
   "cell_type": "code",
   "execution_count": 43,
   "metadata": {},
   "outputs": [],
   "source": [
    "kin, Qrho =getQTransformModel(model)"
   ]
  },
  {
   "cell_type": "markdown",
   "metadata": {},
   "source": [
    "## Patterns with 2 photons"
   ]
  },
  {
   "cell_type": "code",
   "execution_count": 44,
   "metadata": {},
   "outputs": [
    {
     "name": "stdout",
     "output_type": "stream",
     "text": [
      "15\n",
      "Sample 0 of 15 pattern  (1, 1, 0, 0, 0, 0)\n",
      "Probability after training  0.062742874\n",
      "Sample 1 of 15 pattern  (1, 0, 1, 0, 0, 0)\n",
      "Probability after training  4.1744386e-14\n",
      "Sample 2 of 15 pattern  (1, 0, 0, 1, 0, 0)\n",
      "Probability after training  5.3290705e-14\n",
      "Sample 3 of 15 pattern  (1, 0, 0, 0, 1, 0)\n",
      "Probability after training  2.0783375e-13\n",
      "Sample 4 of 15 pattern  (1, 0, 0, 0, 0, 1)\n",
      "Probability after training  5.151435e-14\n",
      "Sample 5 of 15 pattern  (0, 1, 1, 0, 0, 0)\n",
      "Probability after training  1.37667655e-14\n",
      "Sample 6 of 15 pattern  (0, 1, 0, 1, 0, 0)\n",
      "Probability after training  5.9063865e-14\n",
      "Sample 7 of 15 pattern  (0, 1, 0, 0, 1, 0)\n",
      "Probability after training  2.2604141e-13\n",
      "Sample 8 of 15 pattern  (0, 1, 0, 0, 0, 1)\n",
      "Probability after training  5.1292304e-14\n",
      "Sample 9 of 15 pattern  (0, 0, 1, 1, 0, 0)\n",
      "Probability after training  0.03625874\n",
      "Sample 10 of 15 pattern  (0, 0, 1, 0, 1, 0)\n",
      "Probability after training  0.017633863\n",
      "Sample 11 of 15 pattern  (0, 0, 1, 0, 0, 1)\n",
      "Probability after training  0.0066873506\n",
      "Sample 12 of 15 pattern  (0, 0, 0, 1, 1, 0)\n",
      "Probability after training  0.013141087\n",
      "Sample 13 of 15 pattern  (0, 0, 0, 1, 0, 1)\n",
      "Probability after training  0.0033677728\n",
      "Sample 14 of 15 pattern  (0, 0, 0, 0, 1, 1)\n",
      "Probability after training  0.0015446772\n",
      "Done\n",
      "CPU times: user 613 ms, sys: 0 ns, total: 613 ms\n",
      "Wall time: 604 ms\n"
     ]
    }
   ],
   "source": [
    "%%time\n",
    "ln =patterns(2,n)\n",
    "print(len(ln))\n",
    "npatterns=len(ln)\n",
    "Pn = np.zeros([npatterns,], dtype=np.float32)\n",
    "Pth = np.zeros_like(Pn)\n",
    "xaxis=np.zeros_like(Pn)\n",
    "for nbar in range(npatterns):\n",
    "    print('Sample '+repr(nbar)+' of '+repr(npatterns)+' pattern  '+repr(ln[nbar]))\n",
    "    Pn[nbar]=Pr(ln[nbar],Qrho).numpy()\n",
    "    tf.print('Probability after training ',Pn[nbar])\n",
    "    xaxis[nbar]=nbar\n",
    "print('Done')"
   ]
  },
  {
   "cell_type": "code",
   "execution_count": 45,
   "metadata": {},
   "outputs": [],
   "source": [
    "ln2t=ln\n",
    "Pn2t=Pn"
   ]
  },
  {
   "cell_type": "code",
   "execution_count": 46,
   "metadata": {},
   "outputs": [
    {
     "name": "stderr",
     "output_type": "stream",
     "text": [
      "/home/claudio/anaconda3/envs/tf/lib/python3.8/site-packages/matplotlib/text.py:1165: FutureWarning: elementwise comparison failed; returning scalar instead, but in the future will perform elementwise comparison\n",
      "  if s != self._text:\n"
     ]
    },
    {
     "data": {
      "text/plain": [
       "(0.0, 0.07)"
      ]
     },
     "execution_count": 46,
     "metadata": {},
     "output_type": "execute_result"
    },
    {
     "data": {
      "image/png": "[encoded data removed]",
      "text/plain": [
       "<Figure size 432x288 with 1 Axes>"
      ]
     },
     "metadata": {
      "needs_background": "light"
     },
     "output_type": "display_data"
    }
   ],
   "source": [
    "plt.bar(range(len(ln2t)),Pn2t)\n",
    "plt.xlabel(np.transpose(np.array(ln2t)), fontsize=12);\n",
    "plt.ylim((0,0.07))"
   ]
  },
  {
   "cell_type": "markdown",
   "metadata": {},
   "source": [
    "## Patterns of 4 photons"
   ]
  },
  {
   "cell_type": "code",
   "execution_count": 49,
   "metadata": {},
   "outputs": [
    {
     "name": "stdout",
     "output_type": "stream",
     "text": [
      "Patterns with 4 photons 15\n",
      "Sample 0 of 15 pattern (1, 1, 1, 1, 0, 0)\n",
      "Probability after training  0.01809414\n",
      "Sample 1 of 15 pattern (1, 1, 1, 0, 1, 0)\n",
      "Probability after training  0.008799801\n",
      "Sample 2 of 15 pattern (1, 1, 1, 0, 0, 1)\n",
      "Probability after training  0.0033371837\n",
      "Sample 3 of 15 pattern (1, 1, 0, 1, 1, 0)\n",
      "Probability after training  0.0065577887\n",
      "Sample 4 of 15 pattern (1, 1, 0, 1, 0, 1)\n",
      "Probability after training  0.0016806284\n",
      "Sample 5 of 15 pattern (1, 1, 0, 0, 1, 1)\n",
      "Probability after training  0.0007708381\n",
      "Sample 6 of 15 pattern (1, 0, 1, 1, 1, 0)\n",
      "Probability after training  -5.5879257e-09\n",
      "Sample 7 of 15 pattern (1, 0, 1, 1, 0, 1)\n",
      "Probability after training  -5.587912e-09\n",
      "Sample 8 of 15 pattern (1, 0, 1, 0, 1, 1)\n",
      "Probability after training  -1.0244552e-08\n",
      "Sample 9 of 15 pattern (1, 0, 0, 1, 1, 1)\n",
      "Probability after training  -5.587939e-09\n",
      "Sample 10 of 15 pattern (0, 1, 1, 1, 1, 0)\n",
      "Probability after training  3.7253214e-09\n",
      "Sample 11 of 15 pattern (0, 1, 1, 1, 0, 1)\n",
      "Probability after training  3.725321e-09\n",
      "Sample 12 of 15 pattern (0, 1, 1, 0, 1, 1)\n",
      "Probability after training  -9.313302e-10\n",
      "Sample 13 of 15 pattern (0, 1, 0, 1, 1, 1)\n",
      "Probability after training  -9.313291e-10\n",
      "Sample 14 of 15 pattern (0, 0, 1, 1, 1, 1)\n",
      "Probability after training  0.0039320253\n",
      "Done\n",
      "CPU times: user 22.6 s, sys: 0 ns, total: 22.6 s\n",
      "Wall time: 22.7 s\n"
     ]
    }
   ],
   "source": [
    "%%time\n",
    "ln =patterns(4,n)\n",
    "print(\"Patterns with 4 photons\", len(ln))\n",
    "npatterns=len(ln)\n",
    "Pn = np.zeros([npatterns,], dtype=np.float32)\n",
    "Pth = np.zeros_like(Pn)\n",
    "xaxis=np.zeros_like(Pn)\n",
    "for nbar in range(npatterns):\n",
    "    print('Sample '+repr(nbar)+' of '+repr(npatterns)+' pattern '+repr(ln[nbar]))\n",
    "    Pn[nbar]=Pr(ln[nbar],Qrho).numpy()\n",
    "    tf.print(\"Probability after training \",Pn[nbar])\n",
    "    xaxis[nbar]=nbar\n",
    "print('Done')"
   ]
  },
  {
   "cell_type": "code",
   "execution_count": 48,
   "metadata": {},
   "outputs": [
    {
     "data": {
      "image/png": "[encoded data removed]",
      "text/plain": [
       "<Figure size 432x288 with 1 Axes>"
      ]
     },
     "metadata": {
      "needs_background": "light"
     },
     "output_type": "display_data"
    }
   ],
   "source": [
    "plt.xlabel(np.transpose(np.array(ln)), fontsize=12);\n",
    "plt.bar(range(npatterns),Pn)\n",
    "plt.ylabel('Sample Probability Pr (4 photons)');"
   ]
  }
 ],
 "metadata": {
  "kernelspec": {
   "display_name": "Python 3",
   "language": "python",
   "name": "python3"
  },
  "language_info": {
   "codemirror_mode": {
    "name": "ipython",
    "version": 3
   },
   "file_extension": ".py",
   "mimetype": "text/x-python",
   "name": "python",
   "nbconvert_exporter": "python",
   "pygments_lexer": "ipython3",
   "version": "3.8.2"
  }
 },
 "nbformat": 4,
 "nbformat_minor": 4
}
